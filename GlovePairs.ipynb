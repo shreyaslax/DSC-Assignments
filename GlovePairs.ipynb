{
 "cells": [
  {
   "cell_type": "code",
   "execution_count": 1,
   "metadata": {},
   "outputs": [
    {
     "name": "stdout",
     "output_type": "stream",
     "text": [
      "Enter the total number of gloves: 4\n",
      "Enter the glove colors: \n",
      "1 2 3 1\n",
      "The total number of matching pairs of gloves that Jack can sell are 1\n"
     ]
    }
   ],
   "source": [
    "from collections import Counter\n",
    "\n",
    "# Input the total number of gloves\n",
    "num = input(\"Enter the total number of gloves: \")\n",
    "\n",
    "# Input all the glove colors\n",
    "print(\"Enter the glove colors: \")\n",
    "\n",
    "ar = list(map(int, input().split()))\n",
    "\n",
    "# Total number of glove pairs\n",
    "total_pairs = 0\n",
    "n = Counter(ar)\n",
    "\n",
    "for i in n.values():\n",
    "    total_pairs += (i // 2)\n",
    "    \n",
    "print(\"The total number of matching pairs of gloves that Jack can sell are\", total_pairs)\n",
    "    \n",
    "    \n"
   ]
  },
  {
   "cell_type": "code",
   "execution_count": null,
   "metadata": {},
   "outputs": [],
   "source": []
  },
  {
   "cell_type": "code",
   "execution_count": null,
   "metadata": {},
   "outputs": [],
   "source": []
  },
  {
   "cell_type": "markdown",
   "metadata": {},
   "source": [
    "# "
   ]
  },
  {
   "cell_type": "code",
   "execution_count": null,
   "metadata": {},
   "outputs": [],
   "source": []
  },
  {
   "cell_type": "code",
   "execution_count": null,
   "metadata": {},
   "outputs": [],
   "source": []
  }
 ],
 "metadata": {
  "kernelspec": {
   "display_name": "Python 3",
   "language": "python",
   "name": "python3"
  },
  "language_info": {
   "codemirror_mode": {
    "name": "ipython",
    "version": 3
   },
   "file_extension": ".py",
   "mimetype": "text/x-python",
   "name": "python",
   "nbconvert_exporter": "python",
   "pygments_lexer": "ipython3",
   "version": "3.8.3"
  }
 },
 "nbformat": 4,
 "nbformat_minor": 4
}
