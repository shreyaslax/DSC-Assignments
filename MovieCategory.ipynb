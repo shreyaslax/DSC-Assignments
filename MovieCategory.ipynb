{
 "cells": [
  {
   "cell_type": "code",
   "execution_count": 1,
   "metadata": {},
   "outputs": [
    {
     "name": "stdout",
     "output_type": "stream",
     "text": [
      "Enter the name of the movie/series: brookLYn 99\n",
      "It is a comedy\n"
     ]
    }
   ],
   "source": [
    "# List of all thriller movies/series\n",
    "\n",
    "thriller = [\"Dark\", \"Mindhunter\", \"Parasite\", \"Inception\",\n",
    "            \"Insidious\", \"Interstellar\", \"Prison Break\",\n",
    "            \"Money Heist\", \"War\", \"Jack Ryan\"]\n",
    "\n",
    "\n",
    "# List of all comedy movies/series\n",
    "\n",
    "comedy = [\"Friends\", \"3 Idiots\", \"Brooklyn 99\", \"How I Met Your Mother\",\n",
    "          \"Rick And Morty\", \"The Big Bang Theory\", \"The Office\", \"Space Force\"]\n",
    "\n",
    "\n",
    "# Input a movie/series\n",
    "\n",
    "content = input(\"Enter the name of the movie/series: \")\n",
    "content = content.lower()\n",
    "\n",
    "\n",
    "\n",
    "# Check for the movie/series in the given lists\n",
    "\n",
    "for movie_or_series in thriller:\n",
    "    if content == movie_or_series.lower():\n",
    "        print(\"It is a thriller\")\n",
    "        break\n",
    "else:\n",
    "    for movie_or_series in comedy:\n",
    "        if content == movie_or_series.lower():\n",
    "            print(\"It is a comedy\")\n",
    "            break\n",
    "    else:\n",
    "        print(\"It's neither comedy nor thriller\")\n"
   ]
  },
  {
   "cell_type": "code",
   "execution_count": null,
   "metadata": {},
   "outputs": [],
   "source": []
  },
  {
   "cell_type": "code",
   "execution_count": null,
   "metadata": {},
   "outputs": [],
   "source": []
  },
  {
   "cell_type": "code",
   "execution_count": null,
   "metadata": {},
   "outputs": [],
   "source": []
  },
  {
   "cell_type": "code",
   "execution_count": null,
   "metadata": {},
   "outputs": [],
   "source": []
  },
  {
   "cell_type": "code",
   "execution_count": null,
   "metadata": {},
   "outputs": [],
   "source": []
  }
 ],
 "metadata": {
  "kernelspec": {
   "display_name": "Python 3",
   "language": "python",
   "name": "python3"
  },
  "language_info": {
   "codemirror_mode": {
    "name": "ipython",
    "version": 3
   },
   "file_extension": ".py",
   "mimetype": "text/x-python",
   "name": "python",
   "nbconvert_exporter": "python",
   "pygments_lexer": "ipython3",
   "version": "3.8.3"
  }
 },
 "nbformat": 4,
 "nbformat_minor": 4
}
